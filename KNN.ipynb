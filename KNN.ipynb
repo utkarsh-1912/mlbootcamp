{
 "cells": [
  {
   "cell_type": "markdown",
   "metadata": {},
   "source": [
    "# KNN"
   ]
  },
  {
   "cell_type": "code",
   "execution_count": 1,
   "metadata": {},
   "outputs": [],
   "source": [
    "import numpy as np\n",
    "import pandas as pd\n",
    "from matplotlib import pyplot as plt\n",
    "from collections import Counter"
   ]
  },
  {
   "cell_type": "code",
   "execution_count": 2,
   "metadata": {},
   "outputs": [],
   "source": [
    "data_tst=pd.read_csv('/Users/DEEPAK/downloads/Datasets/mnist_test.csv')\n",
    "data_tain=pd.read_csv('/Users/DEEPAK/downloads/mnist_train_small.csv')"
   ]
  },
  {
   "cell_type": "code",
   "execution_count": 3,
   "metadata": {},
   "outputs": [],
   "source": [
    "#--------testing datasets------------\n",
    "data_tst=np.array(data_tst)\n",
    "m, n = data_tst.shape\n",
    "data_test = data_tst[0:m].T\n",
    "Y_test = data_test[0]\n",
    "X_test = data_test[1:n]\n",
    "X_testi = X_test / 255.\n",
    "X_test=X_testi.T        # (total cases,features)\n",
    "\n",
    "#--------training datasets-------------\n",
    "data_tain=np.array(data_tain)\n",
    "p,q=data_tain.shape\n",
    "data_train = data_tain[0:p].T\n",
    "Y_train = data_train[0]  \n",
    "X_traini = data_train[1:q]\n",
    "X_traini = X_traini / 255.       # division by 255. done to make x value smaller as x contain some large value like 255.\n",
    "X_train=X_traini.T\n",
    "a,b=X_train.shape"
   ]
  },
  {
   "cell_type": "code",
   "execution_count": 4,
   "metadata": {},
   "outputs": [],
   "source": [
    "def euclidean_dis(x1,x2):\n",
    "    return np.sqrt(np.sum((x1-x2)**2))\n",
    "def KNN(X,Y,x,k=50):\n",
    "    m=X.shape[0]\n",
    "    val=[]\n",
    "    for i in range(m):\n",
    "        x_i=X[i]\n",
    "        dis=euclidean_dis(x,x_i)\n",
    "        val.append((dis,Y[i]))\n",
    "        val=sorted(val,key = lambda x:x[0])[:k]\n",
    "        val=np.asarray(val)\n",
    "        new_vals=np.unique(val[:,1],return_counts=True)\n",
    "        index=new_vals[1].argmax()\n",
    "        output=new_vals[0][index]\n",
    "        return output\n",
    "def plotimg(n):\n",
    "    print(KNN(X_train,Y_train,X_test[n]))#training from training data and testing from testing data\n",
    "    print(\"label :\",Y_test[n])\n",
    "   "
   ]
  },
  {
   "cell_type": "code",
   "execution_count": 5,
   "metadata": {},
   "outputs": [
    {
     "name": "stdout",
     "output_type": "stream",
     "text": [
      "5.0\n",
      "label : 5\n"
     ]
    }
   ],
   "source": [
    "plotimg(1760)"
   ]
  },
  {
   "cell_type": "code",
   "execution_count": 6,
   "metadata": {},
   "outputs": [
    {
     "data": {
      "text/plain": [
       "<matplotlib.image.AxesImage at 0x7b276e8>"
      ]
     },
     "execution_count": 6,
     "metadata": {},
     "output_type": "execute_result"
    },
    {
     "data": {
      "image/png": "[encoded data removed]",
      "text/plain": [
       "<Figure size 432x288 with 1 Axes>"
      ]
     },
     "metadata": {
      "needs_background": "light"
     },
     "output_type": "display_data"
    }
   ],
   "source": [
    "X=X_test[:,0:]\n",
    "X_test=np.reshape(X,(-1,28,28))\n",
    "plt.imshow(X_test[1760],cmap=plt.get_cmap('gray'))"
   ]
  },
  {
   "cell_type": "code",
   "execution_count": null,
   "metadata": {},
   "outputs": [],
   "source": []
  }
 ],
 "metadata": {
  "kernelspec": {
   "display_name": "Python 3",
   "language": "python",
   "name": "python3"
  },
  "language_info": {
   "codemirror_mode": {
    "name": "ipython",
    "version": 3
   },
   "file_extension": ".py",
   "mimetype": "text/x-python",
   "name": "python",
   "nbconvert_exporter": "python",
   "pygments_lexer": "ipython3",
   "version": "3.8.5"
  }
 },
 "nbformat": 4,
 "nbformat_minor": 4
}

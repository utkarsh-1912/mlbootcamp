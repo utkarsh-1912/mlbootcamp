{
 "cells": [
  {
   "cell_type": "markdown",
   "metadata": {},
   "source": [
    "# Neural Network"
   ]
  },
  {
   "cell_type": "code",
   "execution_count": 1,
   "metadata": {},
   "outputs": [],
   "source": [
    "import numpy as np\n",
    "import pandas as pd\n",
    "from matplotlib import pyplot as plt"
   ]
  },
  {
   "cell_type": "code",
   "execution_count": 2,
   "metadata": {},
   "outputs": [],
   "source": [
    "data=pd.read_csv('/Users/DEEPAK/downloads/Datasets/mnist_test.csv')"
   ]
  },
  {
   "cell_type": "code",
   "execution_count": 3,
   "metadata": {},
   "outputs": [
    {
     "data": {
      "text/html": [
       "<div>\n",
       "<style scoped>\n",
       "    .dataframe tbody tr th:only-of-type {\n",
       "        vertical-align: middle;\n",
       "    }\n",
       "\n",
       "    .dataframe tbody tr th {\n",
       "        vertical-align: top;\n",
       "    }\n",
       "\n",
       "    .dataframe thead th {\n",
       "        text-align: right;\n",
       "    }\n",
       "</style>\n",
       "<table border=\"1\" class=\"dataframe\">\n",
       "  <thead>\n",
       "    <tr style=\"text-align: right;\">\n",
       "      <th></th>\n",
       "      <th>7</th>\n",
       "      <th>0</th>\n",
       "      <th>0.1</th>\n",
       "      <th>0.2</th>\n",
       "      <th>0.3</th>\n",
       "      <th>0.4</th>\n",
       "      <th>0.5</th>\n",
       "      <th>0.6</th>\n",
       "      <th>0.7</th>\n",
       "      <th>0.8</th>\n",
       "      <th>...</th>\n",
       "      <th>0.658</th>\n",
       "      <th>0.659</th>\n",
       "      <th>0.660</th>\n",
       "      <th>0.661</th>\n",
       "      <th>0.662</th>\n",
       "      <th>0.663</th>\n",
       "      <th>0.664</th>\n",
       "      <th>0.665</th>\n",
       "      <th>0.666</th>\n",
       "      <th>0.667</th>\n",
       "    </tr>\n",
       "  </thead>\n",
       "  <tbody>\n",
       "    <tr>\n",
       "      <th>0</th>\n",
       "      <td>2</td>\n",
       "      <td>0</td>\n",
       "      <td>0</td>\n",
       "      <td>0</td>\n",
       "      <td>0</td>\n",
       "      <td>0</td>\n",
       "      <td>0</td>\n",
       "      <td>0</td>\n",
       "      <td>0</td>\n",
       "      <td>0</td>\n",
       "      <td>...</td>\n",
       "      <td>0</td>\n",
       "      <td>0</td>\n",
       "      <td>0</td>\n",
       "      <td>0</td>\n",
       "      <td>0</td>\n",
       "      <td>0</td>\n",
       "      <td>0</td>\n",
       "      <td>0</td>\n",
       "      <td>0</td>\n",
       "      <td>0</td>\n",
       "    </tr>\n",
       "    <tr>\n",
       "      <th>1</th>\n",
       "      <td>1</td>\n",
       "      <td>0</td>\n",
       "      <td>0</td>\n",
       "      <td>0</td>\n",
       "      <td>0</td>\n",
       "      <td>0</td>\n",
       "      <td>0</td>\n",
       "      <td>0</td>\n",
       "      <td>0</td>\n",
       "      <td>0</td>\n",
       "      <td>...</td>\n",
       "      <td>0</td>\n",
       "      <td>0</td>\n",
       "      <td>0</td>\n",
       "      <td>0</td>\n",
       "      <td>0</td>\n",
       "      <td>0</td>\n",
       "      <td>0</td>\n",
       "      <td>0</td>\n",
       "      <td>0</td>\n",
       "      <td>0</td>\n",
       "    </tr>\n",
       "    <tr>\n",
       "      <th>2</th>\n",
       "      <td>0</td>\n",
       "      <td>0</td>\n",
       "      <td>0</td>\n",
       "      <td>0</td>\n",
       "      <td>0</td>\n",
       "      <td>0</td>\n",
       "      <td>0</td>\n",
       "      <td>0</td>\n",
       "      <td>0</td>\n",
       "      <td>0</td>\n",
       "      <td>...</td>\n",
       "      <td>0</td>\n",
       "      <td>0</td>\n",
       "      <td>0</td>\n",
       "      <td>0</td>\n",
       "      <td>0</td>\n",
       "      <td>0</td>\n",
       "      <td>0</td>\n",
       "      <td>0</td>\n",
       "      <td>0</td>\n",
       "      <td>0</td>\n",
       "    </tr>\n",
       "    <tr>\n",
       "      <th>3</th>\n",
       "      <td>4</td>\n",
       "      <td>0</td>\n",
       "      <td>0</td>\n",
       "      <td>0</td>\n",
       "      <td>0</td>\n",
       "      <td>0</td>\n",
       "      <td>0</td>\n",
       "      <td>0</td>\n",
       "      <td>0</td>\n",
       "      <td>0</td>\n",
       "      <td>...</td>\n",
       "      <td>0</td>\n",
       "      <td>0</td>\n",
       "      <td>0</td>\n",
       "      <td>0</td>\n",
       "      <td>0</td>\n",
       "      <td>0</td>\n",
       "      <td>0</td>\n",
       "      <td>0</td>\n",
       "      <td>0</td>\n",
       "      <td>0</td>\n",
       "    </tr>\n",
       "    <tr>\n",
       "      <th>4</th>\n",
       "      <td>1</td>\n",
       "      <td>0</td>\n",
       "      <td>0</td>\n",
       "      <td>0</td>\n",
       "      <td>0</td>\n",
       "      <td>0</td>\n",
       "      <td>0</td>\n",
       "      <td>0</td>\n",
       "      <td>0</td>\n",
       "      <td>0</td>\n",
       "      <td>...</td>\n",
       "      <td>0</td>\n",
       "      <td>0</td>\n",
       "      <td>0</td>\n",
       "      <td>0</td>\n",
       "      <td>0</td>\n",
       "      <td>0</td>\n",
       "      <td>0</td>\n",
       "      <td>0</td>\n",
       "      <td>0</td>\n",
       "      <td>0</td>\n",
       "    </tr>\n",
       "  </tbody>\n",
       "</table>\n",
       "<p>5 rows × 785 columns</p>\n",
       "</div>"
      ],
      "text/plain": [
       "   7  0  0.1  0.2  0.3  0.4  0.5  0.6  0.7  0.8  ...  0.658  0.659  0.660  \\\n",
       "0  2  0    0    0    0    0    0    0    0    0  ...      0      0      0   \n",
       "1  1  0    0    0    0    0    0    0    0    0  ...      0      0      0   \n",
       "2  0  0    0    0    0    0    0    0    0    0  ...      0      0      0   \n",
       "3  4  0    0    0    0    0    0    0    0    0  ...      0      0      0   \n",
       "4  1  0    0    0    0    0    0    0    0    0  ...      0      0      0   \n",
       "\n",
       "   0.661  0.662  0.663  0.664  0.665  0.666  0.667  \n",
       "0      0      0      0      0      0      0      0  \n",
       "1      0      0      0      0      0      0      0  \n",
       "2      0      0      0      0      0      0      0  \n",
       "3      0      0      0      0      0      0      0  \n",
       "4      0      0      0      0      0      0      0  \n",
       "\n",
       "[5 rows x 785 columns]"
      ]
     },
     "execution_count": 3,
     "metadata": {},
     "output_type": "execute_result"
    }
   ],
   "source": [
    "data.head()"
   ]
  },
  {
   "cell_type": "markdown",
   "metadata": {},
   "source": [
    "Shuffling the dataset before splitting in training sets"
   ]
  },
  {
   "cell_type": "code",
   "execution_count": 4,
   "metadata": {},
   "outputs": [],
   "source": [
    "data=np.array(data)\n",
    "m, n = data.shape\n",
    "np.random.shuffle(data) # shuffle before splitting into dev and training sets\n",
    "\n",
    "data_dev = data[0:1000].T\n",
    "Y_dev = data_dev[0]\n",
    "X_dev = data_dev[1:n]\n",
    "X_dev = X_dev / 255.\n",
    "\n",
    "data_train = data[1000:m].T\n",
    "Y_train = data_train[0]\n",
    "X_train = data_train[1:n]\n",
    "X_train = X_train / 255.\n",
    "_,m_train = X_train.shape"
   ]
  },
  {
   "cell_type": "code",
   "execution_count": 5,
   "metadata": {},
   "outputs": [
    {
     "data": {
      "text/plain": [
       "array([0, 6, 9, ..., 4, 1, 2], dtype=int64)"
      ]
     },
     "execution_count": 5,
     "metadata": {},
     "output_type": "execute_result"
    }
   ],
   "source": [
    "Y_train"
   ]
  },
  {
   "cell_type": "code",
   "execution_count": 6,
   "metadata": {},
   "outputs": [],
   "source": [
    "def init_parameters():\n",
    "    W1 = np.random.rand(10, 784) - 0.5\n",
    "    b1 = np.random.rand(10, 1) - 0.5\n",
    "    W2 = np.random.rand(10, 10) - 0.5\n",
    "    b2 = np.random.rand(10, 1) - 0.5\n",
    "    return W1, b1, W2, b2\n",
    "\n",
    "def ReLU(Z):\n",
    "    return np.maximum(Z, 0)\n",
    "\n",
    "def softmax(Z):\n",
    "    A = np.exp(Z) / sum(np.exp(Z))\n",
    "    return A\n",
    "    \n",
    "def forward_prop(W1, b1, W2, b2, X):\n",
    "    Z1 = W1.dot(X) + b1\n",
    "    A1 = ReLU(Z1)\n",
    "    Z2 = W2.dot(A1) + b2\n",
    "    A2 = softmax(Z2)\n",
    "    return Z1, A1, Z2, A2\n",
    "\n",
    "def ReLU_deriv(Z):\n",
    "    return Z > 0\n",
    "\n",
    "def one_hot(Y):\n",
    "    one_hot_Y = np.zeros((Y.size, Y.max() + 1))\n",
    "    one_hot_Y[np.arange(Y.size), Y] = 1\n",
    "    one_hot_Y = one_hot_Y.T\n",
    "    return one_hot_Y\n",
    "\n",
    "def backward_prop(Z1, A1, Z2, A2, W1, W2, X, Y):\n",
    "    one_hot_Y = one_hot(Y)\n",
    "    dZ2 = A2 - one_hot_Y\n",
    "    dW2 = 1 / m * dZ2.dot(A1.T)\n",
    "    db2 = 1 / m * np.sum(dZ2)\n",
    "    dZ1 = W2.T.dot(dZ2) * ReLU_deriv(Z1)\n",
    "    dW1 = 1 / m * dZ1.dot(X.T)\n",
    "    db1 = 1 / m * np.sum(dZ1)\n",
    "    return dW1, db1, dW2, db2\n",
    "\n",
    "def update_parameters(W1, b1, W2, b2, dW1, db1, dW2, db2, alpha):\n",
    "    W1 = W1 - alpha * dW1\n",
    "    b1 = b1 - alpha * db1    \n",
    "    W2 = W2 - alpha * dW2  \n",
    "    b2 = b2 - alpha * db2    \n",
    "    return W1, b1, W2, b2\n",
    "def get_predictions(A2):\n",
    "    return np.argmax(A2, 0)\n",
    "\n",
    "def get_accuracy(predictions, Y):\n",
    "    print(predictions, Y)\n",
    "    return np.sum(predictions == Y) / Y.size\n",
    "\n",
    "def gradient_descent(X, Y, alpha, iterations):\n",
    "    W1, b1, W2, b2 = init_parameters()\n",
    "    for i in range(iterations):\n",
    "        Z1, A1, Z2, A2 = forward_prop(W1, b1, W2, b2, X)\n",
    "        dW1, db1, dW2, db2 = backward_prop(Z1, A1, Z2, A2, W1, W2, X, Y)\n",
    "        W1, b1, W2, b2 = update_parameters(W1, b1, W2, b2, dW1, db1, dW2, db2, alpha)\n",
    "        if i % 10 == 0:\n",
    "            print(\"Iteration: \", i)\n",
    "            predictions = get_predictions(A2)\n",
    "            print(get_accuracy(predictions, Y))\n",
    "    return W1, b1, W2, b2"
   ]
  },
  {
   "cell_type": "code",
   "execution_count": 7,
   "metadata": {},
   "outputs": [
    {
     "name": "stdout",
     "output_type": "stream",
     "text": [
      "Iteration:  0\n",
      "[3 3 9 ... 9 9 9] [0 6 9 ... 4 1 2]\n",
      "0.1302366929658851\n",
      "Iteration:  10\n",
      "[0 4 9 ... 9 5 9] [0 6 9 ... 4 1 2]\n",
      "0.24858317590843426\n",
      "Iteration:  20\n",
      "[0 2 9 ... 7 7 2] [0 6 9 ... 4 1 2]\n",
      "0.3345927325258362\n",
      "Iteration:  30\n",
      "[0 2 7 ... 7 7 2] [0 6 9 ... 4 1 2]\n",
      "0.40082231359039894\n",
      "Iteration:  40\n",
      "[0 6 7 ... 4 8 2] [0 6 9 ... 4 1 2]\n",
      "0.4557173019224358\n",
      "Iteration:  50\n",
      "[0 6 7 ... 4 8 2] [0 6 9 ... 4 1 2]\n",
      "0.5049449938882098\n",
      "Iteration:  60\n",
      "[0 6 7 ... 4 1 2] [0 6 9 ... 4 1 2]\n",
      "0.5456161795755083\n",
      "Iteration:  70\n",
      "[0 6 7 ... 4 1 2] [0 6 9 ... 4 1 2]\n",
      "0.579953328147572\n",
      "Iteration:  80\n",
      "[0 6 7 ... 4 1 2] [0 6 9 ... 4 1 2]\n",
      "0.6118457606400711\n",
      "Iteration:  90\n",
      "[0 6 7 ... 4 1 2] [0 6 9 ... 4 1 2]\n",
      "0.6368485387265251\n",
      "Iteration:  100\n",
      "[0 6 7 ... 4 1 2] [0 6 9 ... 4 1 2]\n",
      "0.6600733414823869\n",
      "Iteration:  110\n",
      "[0 6 9 ... 4 1 2] [0 6 9 ... 4 1 2]\n",
      "0.6780753417046338\n",
      "Iteration:  120\n",
      "[0 6 9 ... 4 1 2] [0 6 9 ... 4 1 2]\n",
      "0.6957439715523948\n",
      "Iteration:  130\n",
      "[0 6 9 ... 4 1 2] [0 6 9 ... 4 1 2]\n",
      "0.7089676630736749\n",
      "Iteration:  140\n",
      "[0 6 9 ... 4 1 2] [0 6 9 ... 4 1 2]\n",
      "0.7210801200133348\n",
      "Iteration:  150\n",
      "[0 6 9 ... 4 1 2] [0 6 9 ... 4 1 2]\n",
      "0.7327480831203467\n",
      "Iteration:  160\n",
      "[0 6 9 ... 4 1 2] [0 6 9 ... 4 1 2]\n",
      "0.7417490832314702\n",
      "Iteration:  170\n",
      "[0 6 9 ... 4 1 2] [0 6 9 ... 4 1 2]\n",
      "0.7508612068007556\n",
      "Iteration:  180\n",
      "[0 6 9 ... 4 1 2] [0 6 9 ... 4 1 2]\n",
      "0.7574174908323147\n",
      "Iteration:  190\n",
      "[0 6 9 ... 4 1 2] [0 6 9 ... 4 1 2]\n",
      "0.7641960217801979\n",
      "Iteration:  200\n",
      "[0 6 9 ... 4 1 2] [0 6 9 ... 4 1 2]\n",
      "0.7710856761862429\n",
      "Iteration:  210\n",
      "[0 6 9 ... 4 1 2] [0 6 9 ... 4 1 2]\n",
      "0.7769752194688299\n",
      "Iteration:  220\n",
      "[0 6 9 ... 4 1 2] [0 6 9 ... 4 1 2]\n",
      "0.7826425158350928\n",
      "Iteration:  230\n",
      "[0 6 9 ... 4 1 2] [0 6 9 ... 4 1 2]\n",
      "0.7887543060340038\n",
      "Iteration:  240\n",
      "[0 6 9 ... 4 1 2] [0 6 9 ... 4 1 2]\n",
      "0.7937548616512946\n",
      "Iteration:  250\n",
      "[0 6 9 ... 4 1 2] [0 6 9 ... 4 1 2]\n",
      "0.7975330592288032\n",
      "Iteration:  260\n",
      "[0 6 9 ... 4 1 2] [0 6 9 ... 4 1 2]\n",
      "0.8008667629736638\n",
      "Iteration:  270\n",
      "[0 6 9 ... 4 1 2] [0 6 9 ... 4 1 2]\n",
      "0.8036448494277142\n",
      "Iteration:  280\n",
      "[0 6 9 ... 4 1 2] [0 6 9 ... 4 1 2]\n",
      "0.8064229358817646\n",
      "Iteration:  290\n",
      "[0 6 9 ... 4 1 2] [0 6 9 ... 4 1 2]\n",
      "0.8099788865429493\n",
      "Iteration:  300\n",
      "[0 6 9 ... 4 1 2] [0 6 9 ... 4 1 2]\n",
      "0.8142015779531059\n",
      "Iteration:  310\n",
      "[0 6 9 ... 4 1 2] [0 6 9 ... 4 1 2]\n",
      "0.8173130347816424\n",
      "Iteration:  320\n",
      "[0 6 9 ... 4 1 2] [0 6 9 ... 4 1 2]\n",
      "0.820980108900989\n",
      "Iteration:  330\n",
      "[0 6 9 ... 4 1 2] [0 6 9 ... 4 1 2]\n",
      "0.8229803311479054\n",
      "Iteration:  340\n",
      "[0 6 9 ... 4 1 2] [0 6 9 ... 4 1 2]\n",
      "0.8252028003111457\n",
      "Iteration:  350\n",
      "[0 6 9 ... 4 1 2] [0 6 9 ... 4 1 2]\n",
      "0.827425269474386\n",
      "Iteration:  360\n",
      "[0 6 9 ... 4 1 2] [0 6 9 ... 4 1 2]\n",
      "0.8308700966774086\n",
      "Iteration:  370\n",
      "[0 6 9 ... 4 1 2] [0 6 9 ... 4 1 2]\n",
      "0.833203689298811\n",
      "Iteration:  380\n",
      "[0 6 9 ... 4 1 2] [0 6 9 ... 4 1 2]\n",
      "0.8345371707967552\n",
      "Iteration:  390\n",
      "[0 6 9 ... 4 1 2] [0 6 9 ... 4 1 2]\n",
      "0.8364262695855095\n",
      "Iteration:  400\n",
      "[0 6 9 ... 4 1 2] [0 6 9 ... 4 1 2]\n",
      "0.8382042449161018\n",
      "Iteration:  410\n",
      "[0 6 9 ... 4 1 2] [0 6 9 ... 4 1 2]\n",
      "0.8400933437048561\n",
      "Iteration:  420\n",
      "[0 6 9 ... 4 1 2] [0 6 9 ... 4 1 2]\n",
      "0.8415379486609623\n",
      "Iteration:  430\n",
      "[0 6 9 ... 4 1 2] [0 6 9 ... 4 1 2]\n",
      "0.8427603067007445\n",
      "Iteration:  440\n",
      "[0 6 9 ... 4 1 2] [0 6 9 ... 4 1 2]\n",
      "0.8439826647405267\n",
      "Iteration:  450\n",
      "[0 6 9 ... 4 1 2] [0 6 9 ... 4 1 2]\n",
      "0.845093899322147\n",
      "Iteration:  460\n",
      "[0 6 9 ... 4 1 2] [0 6 9 ... 4 1 2]\n",
      "0.8475386154017113\n",
      "Iteration:  470\n",
      "[0 6 9 ... 4 1 2] [0 6 9 ... 4 1 2]\n",
      "0.8493165907323036\n",
      "Iteration:  480\n",
      "[0 6 9 ... 4 1 2] [0 6 9 ... 4 1 2]\n",
      "0.8504278253139238\n",
      "Iteration:  490\n",
      "[0 6 9 ... 4 1 2] [0 6 9 ... 4 1 2]\n",
      "0.8514279364373819\n"
     ]
    }
   ],
   "source": [
    "W1, b1, W2, b2 = gradient_descent(X_train, Y_train, 0.10, 500)"
   ]
  },
  {
   "cell_type": "code",
   "execution_count": 8,
   "metadata": {},
   "outputs": [],
   "source": [
    "def make_predictions(X, W1, b1, W2, b2):\n",
    "    _, _, _, A2 = forward_prop(W1, b1, W2, b2, X)\n",
    "    predictions = get_predictions(A2)\n",
    "    return predictions\n",
    "\n",
    "def test_prediction(index, W1, b1, W2, b2):\n",
    "    current_image = X_train[:, index, None]\n",
    "    prediction = make_predictions(X_train[:, index, None], W1, b1, W2, b2)\n",
    "    label = Y_train[index]\n",
    "    print(\"Prediction: \", prediction)\n",
    "    print(\"Label: \", label)\n",
    "    \n",
    "    current_image = current_image.reshape((28, 28)) * 255\n",
    "    plt.gray()\n",
    "    plt.imshow(current_image, interpolation='nearest')\n",
    "    plt.show()"
   ]
  },
  {
   "cell_type": "code",
   "execution_count": 9,
   "metadata": {},
   "outputs": [
    {
     "name": "stdout",
     "output_type": "stream",
     "text": [
      "Prediction:  [0]\n",
      "Label:  0\n"
     ]
    },
    {
     "data": {
      "image/png": "[encoded data removed]",
      "text/plain": [
       "<Figure size 432x288 with 1 Axes>"
      ]
     },
     "metadata": {
      "needs_background": "light"
     },
     "output_type": "display_data"
    },
    {
     "name": "stdout",
     "output_type": "stream",
     "text": [
      "Prediction:  [6]\n",
      "Label:  6\n"
     ]
    },
    {
     "data": {
      "image/png": "[encoded data removed]",
      "text/plain": [
       "<Figure size 432x288 with 1 Axes>"
      ]
     },
     "metadata": {
      "needs_background": "light"
     },
     "output_type": "display_data"
    },
    {
     "name": "stdout",
     "output_type": "stream",
     "text": [
      "Prediction:  [2]\n",
      "Label:  2\n"
     ]
    },
    {
     "data": {
      "image/png": "[encoded data removed]",
      "text/plain": [
       "<Figure size 432x288 with 1 Axes>"
      ]
     },
     "metadata": {
      "needs_background": "light"
     },
     "output_type": "display_data"
    },
    {
     "name": "stdout",
     "output_type": "stream",
     "text": [
      "Prediction:  [8]\n",
      "Label:  6\n"
     ]
    },
    {
     "data": {
      "image/png": "[encoded data removed]",
      "text/plain": [
       "<Figure size 432x288 with 1 Axes>"
      ]
     },
     "metadata": {
      "needs_background": "light"
     },
     "output_type": "display_data"
    }
   ],
   "source": [
    "test_prediction(0, W1, b1, W2, b2)\n",
    "test_prediction(1, W1, b1, W2, b2)\n",
    "test_prediction(4, W1, b1, W2, b2)\n",
    "test_prediction(7, W1, b1, W2, b2)"
   ]
  },
  {
   "cell_type": "code",
   "execution_count": 10,
   "metadata": {},
   "outputs": [
    {
     "name": "stdout",
     "output_type": "stream",
     "text": [
      "[7 3 6 4 8 2 5 1 1 1 5 4 5 3 3 4 4 8 3 7 3 7 6 2 3 2 5 3 6 7 1 7 2 3 9 7 6\n",
      " 1 5 2 4 5 1 7 9 4 4 6 8 2 6 8 0 8 1 5 4 4 9 9 5 1 4 0 6 0 1 1 0 3 9 6 5 6\n",
      " 4 0 4 0 1 2 5 7 0 6 2 8 7 7 8 8 3 7 6 6 3 5 5 9 4 4 6 7 9 7 2 0 1 1 7 2 2\n",
      " 8 1 7 1 3 0 7 0 3 3 6 2 4 1 5 1 6 1 0 0 6 5 0 5 6 8 6 1 7 9 6 0 8 0 3 8 5\n",
      " 9 1 1 7 5 4 8 7 6 3 4 2 9 3 9 3 8 8 0 9 2 8 9 2 4 2 2 9 2 1 7 9 1 8 1 9 7\n",
      " 1 5 0 1 4 9 6 4 3 4 2 6 2 3 4 4 0 6 1 9 4 7 9 9 6 4 2 1 3 2 0 3 7 4 4 6 8\n",
      " 2 1 7 7 4 3 4 8 5 2 0 4 3 4 5 6 6 7 2 8 6 5 6 3 8 9 9 7 2 9 3 2 9 7 3 7 1\n",
      " 7 5 9 0 3 2 3 9 4 8 6 9 7 8 0 7 6 2 2 8 6 2 9 6 7 1 6 8 7 0 1 4 3 7 6 3 9\n",
      " 4 1 4 1 4 5 2 6 8 9 1 5 9 2 7 1 1 5 0 4 6 8 1 6 1 7 3 5 4 9 3 5 5 7 8 5 3\n",
      " 2 9 3 7 1 7 5 9 8 1 3 1 2 8 8 2 2 3 2 7 9 9 2 8 4 5 6 3 5 6 9 6 1 7 5 1 0\n",
      " 7 3 8 8 9 9 9 8 1 3 3 1 9 1 1 4 2 8 9 6 8 4 3 0 8 4 6 1 3 6 1 6 7 0 1 2 6\n",
      " 7 2 9 0 8 5 3 8 4 1 7 2 0 6 7 4 6 0 5 6 6 8 2 0 5 0 2 5 1 3 4 7 9 3 1 8 4\n",
      " 1 6 1 6 0 0 8 3 2 1 1 5 1 5 0 6 9 5 6 0 2 1 9 5 1 9 5 9 7 4 6 1 0 6 5 8 8\n",
      " 4 1 0 0 6 8 4 5 8 9 4 2 9 3 3 6 7 7 0 8 5 6 3 6 3 9 6 9 9 1 7 2 3 4 1 2 9\n",
      " 8 3 2 0 2 7 1 9 5 1 4 1 1 6 5 7 1 7 0 3 2 8 3 1 4 7 1 3 4 4 6 5 9 6 1 9 1\n",
      " 8 4 1 5 0 3 0 3 3 9 3 1 6 6 1 2 5 6 0 5 9 0 6 7 9 1 9 2 8 8 3 1 8 6 1 4 4\n",
      " 5 0 0 8 3 2 3 5 5 1 1 9 4 0 2 3 8 2 1 3 3 3 3 0 3 6 9 7 0 4 9 1 1 7 6 7 9\n",
      " 1 1 2 8 1 4 7 0 6 0 1 9 4 3 7 2 3 0 8 2 6 9 9 6 7 9 9 0 8 6 6 7 4 0 9 8 1\n",
      " 9 6 8 7 1 0 2 7 8 4 1 2 4 2 6 4 7 1 2 6 2 2 2 1 7 3 9 4 9 1 9 5 7 1 0 5 6\n",
      " 2 9 9 2 2 5 0 1 0 7 0 3 8 8 2 6 6 7 4 9 9 1 4 1 5 7 2 9 4 6 3 2 9 8 4 9 0\n",
      " 4 2 3 5 7 1 2 7 9 1 4 5 0 6 6 6 1 1 1 0 7 4 9 8 9 1 7 0 1 1 2 8 1 7 5 6 6\n",
      " 0 6 8 7 4 9 3 7 6 0 2 3 0 0 0 3 7 2 7 1 3 5 3 4 7 0 3 8 0 1 2 7 1 0 7 3 7\n",
      " 0 6 2 8 4 6 7 0 4 9 8 0 8 0 7 8 6 6 4 0 0 3 0 8 9 4 9 6 8 2 9 4 4 7 9 3 1\n",
      " 9 8 5 3 8 2 8 8 9 6 5 5 9 9 3 9 8 6 9 5 3 0 2 0 3 3 4 3 5 1 4 1 7 7 9 7 6\n",
      " 2 9 7 9 2 2 0 2 7 0 8 9 9 9 7 4 4 8 0 1 2 6 8 8 1 1 1 9 6 8 0 6 9 8 4 8 7\n",
      " 7 0 8 1 2 0 2 4 9 4 5 1 0 5 0 1 6 4 6 5 3 6 6 1 9 9 4 6 2 3 4 6 5 6 6 2 4\n",
      " 6 3 3 7 9 4 6 7 4 2 3 5 5 8 3 3 2 5 4 9 6 3 7 2 6 0 2 3 2 8 2 1 6 9 2 0 5\n",
      " 0] [7 3 6 4 8 3 5 1 1 1 5 4 5 3 3 4 4 5 8 7 3 7 6 2 3 2 5 3 6 3 1 7 2 3 7 7 6\n",
      " 7 5 2 7 5 1 7 7 4 4 6 8 2 6 8 0 6 1 0 4 4 9 9 5 1 4 0 6 0 1 1 0 3 9 6 8 6\n",
      " 4 2 4 0 1 3 5 7 0 2 2 4 7 7 8 8 3 7 6 6 3 8 8 9 4 4 6 7 7 7 2 0 1 1 7 1 2\n",
      " 8 1 7 2 3 2 9 0 5 5 6 8 4 1 5 1 6 1 0 0 2 5 0 5 6 8 6 4 7 9 6 0 8 0 9 8 5\n",
      " 9 1 1 7 5 4 5 7 2 2 4 2 9 3 9 2 8 8 0 9 2 8 9 3 4 2 2 9 2 1 7 9 1 3 1 9 7\n",
      " 1 5 0 1 9 7 2 4 3 4 2 6 2 3 4 4 0 6 1 7 4 7 9 9 6 4 2 1 3 2 0 3 5 4 4 6 8\n",
      " 2 1 7 7 4 3 4 8 5 2 0 4 2 4 5 6 6 7 2 8 6 5 6 3 8 9 4 7 2 9 3 7 9 7 3 7 6\n",
      " 7 5 9 0 3 2 3 7 4 8 6 9 9 5 0 7 6 2 2 5 6 2 9 4 9 7 9 8 9 0 1 9 3 7 4 5 9\n",
      " 4 1 9 1 4 5 2 6 8 9 1 5 9 2 7 1 1 5 0 4 4 8 1 6 1 7 5 5 4 9 3 8 5 9 8 5 3\n",
      " 2 9 3 7 1 7 5 3 8 1 3 1 3 8 4 2 2 3 2 7 9 7 2 8 4 5 6 3 5 6 9 5 1 7 5 1 3\n",
      " 7 3 8 8 9 9 9 5 1 5 3 1 9 1 1 4 3 5 7 0 8 4 3 0 5 4 4 1 5 6 1 6 1 0 1 2 6\n",
      " 7 2 7 0 2 8 2 8 4 1 7 2 0 6 7 4 0 0 5 6 6 3 2 0 5 0 2 8 1 3 4 2 9 3 1 8 4\n",
      " 1 6 1 0 0 0 5 5 2 1 7 5 1 5 0 5 9 5 6 0 2 1 9 5 1 9 5 9 7 4 6 1 0 6 5 8 8\n",
      " 4 1 0 0 8 1 4 5 8 9 9 2 3 3 3 6 7 7 0 8 5 6 3 6 3 4 6 9 9 1 7 2 3 4 1 2 7\n",
      " 8 3 2 0 2 7 1 9 5 1 4 1 1 6 5 7 1 7 0 3 0 8 5 1 4 7 1 3 4 4 6 5 9 6 1 9 1\n",
      " 8 4 1 5 0 3 0 3 3 9 3 1 6 4 1 2 8 6 0 5 9 0 6 7 9 1 9 2 8 8 3 1 8 2 1 4 4\n",
      " 8 0 0 8 3 8 3 5 8 1 1 4 9 0 7 0 8 2 1 3 2 3 3 0 3 6 9 7 0 4 9 1 7 7 2 7 9\n",
      " 1 1 2 8 1 4 9 0 6 0 1 2 4 3 7 2 3 0 8 2 2 5 5 6 7 4 9 0 8 6 4 7 4 2 9 8 1\n",
      " 9 6 8 7 1 0 2 7 8 4 1 5 4 2 0 4 7 1 2 6 2 2 2 1 7 3 9 4 9 1 9 5 7 1 5 5 6\n",
      " 2 8 9 2 4 5 2 1 0 7 0 3 8 5 2 6 6 7 4 9 9 1 4 1 5 7 2 9 4 6 3 2 9 8 4 9 0\n",
      " 4 2 5 5 4 1 2 7 9 1 4 5 0 6 6 6 2 1 8 6 7 9 9 8 9 1 7 7 1 1 2 8 1 7 5 6 6\n",
      " 0 6 5 7 9 9 3 7 6 0 3 3 0 0 0 3 7 2 7 1 3 5 3 4 7 0 3 8 0 1 2 7 1 0 7 3 7\n",
      " 0 6 2 8 4 8 7 0 8 5 8 0 8 7 7 8 6 6 4 0 0 3 0 8 9 4 9 6 8 2 9 4 4 7 9 3 1\n",
      " 9 8 5 3 8 2 8 5 9 6 5 5 9 9 3 9 8 6 9 9 3 0 8 0 3 3 4 3 5 1 4 1 7 7 9 7 6\n",
      " 4 9 7 9 2 2 0 2 7 0 8 9 9 7 7 4 4 4 0 8 2 6 8 2 1 8 1 9 2 8 0 6 9 4 4 8 7\n",
      " 3 0 5 1 2 0 2 4 9 6 9 1 0 5 0 1 6 4 6 5 3 6 6 1 9 8 4 6 2 3 4 6 5 2 6 2 4\n",
      " 6 5 3 7 9 4 6 7 4 2 5 5 5 9 3 3 3 5 5 9 6 3 7 2 4 0 2 3 8 1 2 1 6 9 2 0 3\n",
      " 0]\n"
     ]
    },
    {
     "data": {
      "text/plain": [
       "0.835"
      ]
     },
     "execution_count": 10,
     "metadata": {},
     "output_type": "execute_result"
    }
   ],
   "source": [
    "dev_predictions = make_predictions(X_dev, W1, b1, W2, b2)\n",
    "get_accuracy(dev_predictions, Y_dev)"
   ]
  },
  {
   "cell_type": "code",
   "execution_count": null,
   "metadata": {},
   "outputs": [],
   "source": []
  }
 ],
 "metadata": {
  "kernelspec": {
   "display_name": "Python 3",
   "language": "python",
   "name": "python3"
  },
  "language_info": {
   "codemirror_mode": {
    "name": "ipython",
    "version": 3
   },
   "file_extension": ".py",
   "mimetype": "text/x-python",
   "name": "python",
   "nbconvert_exporter": "python",
   "pygments_lexer": "ipython3",
   "version": "3.8.5"
  }
 },
 "nbformat": 4,
 "nbformat_minor": 4
}

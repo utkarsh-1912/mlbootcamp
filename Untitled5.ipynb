{
 "cells": [
  {
   "cell_type": "code",
   "execution_count": 2,
   "metadata": {},
   "outputs": [],
   "source": [
    "from sklearn.datasets import make_blobs\n",
    "import numpy as np\n",
    "from matplotlib import pyplot as plt\n",
    "blobs=make_blobs()"
   ]
  },
  {
   "cell_type": "code",
   "execution_count": 3,
   "metadata": {},
   "outputs": [
    {
     "data": {
      "text/plain": [
       "(array([[  6.43671066,  -7.44782603],\n",
       "        [  3.89124614,   5.28985739],\n",
       "        [ -5.27578479,  -5.98747588],\n",
       "        [  7.31192103, -10.91124495],\n",
       "        [  3.58433338,   8.82964982],\n",
       "        [  3.82552077,   5.44424826],\n",
       "        [ -6.29710515,  -4.42827579],\n",
       "        [  7.17307536,  -9.24415533],\n",
       "        [ -6.2279772 ,  -3.15371796],\n",
       "        [  3.85183473,   8.38889941],\n",
       "        [  4.96848928,  -9.47027372],\n",
       "        [ -6.51425714,  -4.93417515],\n",
       "        [  4.20546695,   6.17150267],\n",
       "        [  5.25194307, -10.42230129],\n",
       "        [  5.10452693, -10.04470743],\n",
       "        [ -5.59620806,  -1.89168564],\n",
       "        [  2.95734921,   6.87070823],\n",
       "        [  7.13322128, -10.00671884],\n",
       "        [  7.2193615 ,  -9.67581359],\n",
       "        [ -4.62952193,  -4.42477619],\n",
       "        [ -5.41872426,  -4.95538921],\n",
       "        [  5.71497298,   6.86813544],\n",
       "        [  4.28834254,   5.57738088],\n",
       "        [ -4.15103459,  -3.32517762],\n",
       "        [ -6.59671288,  -3.68264712],\n",
       "        [  4.86569799,   7.61785805],\n",
       "        [  4.00701257,   8.41140046],\n",
       "        [  5.45340136,  -8.39788491],\n",
       "        [  6.53580685,  -9.71372062],\n",
       "        [ -5.72699656,  -4.41223856],\n",
       "        [ -4.87592944,  -6.26136213],\n",
       "        [ -4.9102647 ,  -7.2276769 ],\n",
       "        [ -5.62364673,  -3.69734522],\n",
       "        [  2.54005612,   6.18417512],\n",
       "        [  4.7683742 ,   7.693251  ],\n",
       "        [  1.44367078,   6.37308206],\n",
       "        [  6.05841805,   7.34622702],\n",
       "        [  5.94769474, -10.17177142],\n",
       "        [  3.99156022,   7.38934   ],\n",
       "        [ -3.7664317 ,  -3.89304428],\n",
       "        [ -4.61628164,  -3.30968404],\n",
       "        [  3.32281499,   6.87953969],\n",
       "        [  3.50669009,   5.7921871 ],\n",
       "        [ -3.66617367,  -4.26827273],\n",
       "        [  4.20076254,   8.16287937],\n",
       "        [ -3.93374307,  -4.23571137],\n",
       "        [  1.74412322,   6.06651142],\n",
       "        [  6.63425435,  -9.31736833],\n",
       "        [  3.83943091,   7.65577826],\n",
       "        [  4.07383367,   8.21371819],\n",
       "        [  5.37240832, -10.73556727],\n",
       "        [  6.10689112,  -9.63054167],\n",
       "        [  6.83749231,  -9.60711409],\n",
       "        [  6.44009124, -10.32916991],\n",
       "        [  4.41716988,   8.30544627],\n",
       "        [  2.29299172,   7.0601713 ],\n",
       "        [  5.79961202, -10.70043153],\n",
       "        [  6.75544528, -11.50172333],\n",
       "        [ -4.80027892,  -5.84238153],\n",
       "        [ -3.54105554,  -3.81362025],\n",
       "        [  4.31070766,   7.37032642],\n",
       "        [  4.844001  ,   7.40432629],\n",
       "        [  4.83716085, -11.19735616],\n",
       "        [ -5.55084556,  -5.04148   ],\n",
       "        [  4.48284643,  -9.29229302],\n",
       "        [ -3.51374595,  -4.7399188 ],\n",
       "        [ -4.75834345,  -4.05013151],\n",
       "        [  6.15186905,  -9.84967199],\n",
       "        [  7.24697821, -10.0396521 ],\n",
       "        [ -5.63445696,  -5.09962896],\n",
       "        [  5.5179729 ,  -8.42687453],\n",
       "        [  5.84261697, -10.83840636],\n",
       "        [  5.29308041, -10.11434442],\n",
       "        [  7.07947334, -10.23754468],\n",
       "        [ -4.33503167,  -4.9251613 ],\n",
       "        [  4.89357209, -10.36446478],\n",
       "        [ -5.04897287,  -4.71562515],\n",
       "        [ -6.71099952,  -4.2429639 ],\n",
       "        [  5.69810216,  -9.13575931],\n",
       "        [  5.13259225,  -9.83619642],\n",
       "        [ -4.43638465,  -4.75244085],\n",
       "        [  4.8718865 ,   7.25998439],\n",
       "        [  5.16920631,  -9.6079268 ],\n",
       "        [ -5.29882562,  -4.14596674],\n",
       "        [ -5.3067581 ,  -4.78386156],\n",
       "        [ -4.73796734,  -6.12541377],\n",
       "        [  6.29793648,  -9.10784553],\n",
       "        [  4.41004975,   6.56590459],\n",
       "        [  3.26115746,   8.41834273],\n",
       "        [  5.02478924,   7.44205903],\n",
       "        [ -5.67996764,  -6.19776765],\n",
       "        [  6.61917169,  -9.73428454],\n",
       "        [  4.04142604,   7.24049215],\n",
       "        [  6.4624688 ,  -9.82806401],\n",
       "        [ -6.64228828,  -4.11008807],\n",
       "        [  3.19244043,   8.63783928],\n",
       "        [  4.74204063,   6.53224578],\n",
       "        [  6.25471935,  -8.41988   ],\n",
       "        [  3.84569318,   6.64752104],\n",
       "        [ -6.60453977,  -2.36315082]]),\n",
       " array([0, 2, 1, 0, 2, 2, 1, 0, 1, 2, 0, 1, 2, 0, 0, 1, 2, 0, 0, 1, 1, 2,\n",
       "        2, 1, 1, 2, 2, 0, 0, 1, 1, 1, 1, 2, 2, 2, 2, 0, 2, 1, 1, 2, 2, 1,\n",
       "        2, 1, 2, 0, 2, 2, 0, 0, 0, 0, 2, 2, 0, 0, 1, 1, 2, 2, 0, 1, 0, 1,\n",
       "        1, 0, 0, 1, 0, 0, 0, 0, 1, 0, 1, 1, 0, 0, 1, 2, 0, 1, 1, 1, 0, 2,\n",
       "        2, 2, 1, 0, 2, 0, 1, 2, 2, 0, 2, 1]))"
      ]
     },
     "execution_count": 3,
     "metadata": {},
     "output_type": "execute_result"
    }
   ],
   "source": [
    "blobs"
   ]
  },
  {
   "cell_type": "code",
   "execution_count": 4,
   "metadata": {},
   "outputs": [],
   "source": [
    "x,y=make_blobs(n_samples=500,n_features=2,centers=2,random_state=1)"
   ]
  },
  {
   "cell_type": "code",
   "execution_count": 5,
   "metadata": {},
   "outputs": [
    {
     "data": {
      "text/plain": [
       "array([[  1.        , -10.14090825,  -2.92036477],\n",
       "       [  1.        ,  -2.51101556,   5.40737129],\n",
       "       [  1.        , -10.80389072,  -3.90428685],\n",
       "       ...,\n",
       "       [  1.        , -10.01553005,  -4.55348735],\n",
       "       [  1.        ,  -2.52087627,   5.08120139],\n",
       "       [  1.        , -11.39652532,  -3.87158073]])"
      ]
     },
     "execution_count": 5,
     "metadata": {},
     "output_type": "execute_result"
    }
   ],
   "source": [
    "ones=np.ones((x.shape[0],1))\n",
    "x=np.hstack((ones,x))\n",
    "x"
   ]
  },
  {
   "cell_type": "code",
   "execution_count": 6,
   "metadata": {},
   "outputs": [
    {
     "data": {
      "text/plain": [
       "<matplotlib.collections.PathCollection at 0x8d6fbc8>"
      ]
     },
     "execution_count": 6,
     "metadata": {},
     "output_type": "execute_result"
    },
    {
     "data": {
      "image/png": "[encoded data removed]",
      "text/plain": [
       "<Figure size 432x288 with 1 Axes>"
      ]
     },
     "metadata": {
      "needs_background": "light"
     },
     "output_type": "display_data"
    }
   ],
   "source": [
    "y.reshape((500,1))\n",
    "t=x[:,1]\n",
    "plt.scatter(t,y)"
   ]
  },
  {
   "cell_type": "code",
   "execution_count": 7,
   "metadata": {},
   "outputs": [],
   "source": [
    "def hypothesis(x,theta):\n",
    "    z=np.dot(x,theta)\n",
    "    y_=sigmoid(z)\n",
    "    return y_\n",
    "def sigmoid(z):\n",
    "    return 1.0/(1+np.exp(-1*z))\n",
    "def error(x,theta,y):\n",
    "    m=x.shape[0]\n",
    "    y_=hypothesis(x,theta)\n",
    "    err=np.dot(-y,np.log(y_))-np.dot((1-y),np.log(1-y_))\n",
    "    return err/m\n",
    "#np.dot is for submission\n",
    "def gradient(x,theta,y):\n",
    "    y_=hypothesis(x,theta)\n",
    "    m=x.shape[0]\n",
    "    grad=np.dot(x.T,y_-y)\n",
    "    return grad/m\n",
    "def gradient_descent(x,y,learning_rate=0.3,epochs=60):\n",
    "    m,n=x.shape\n",
    "    theta=np.zeros((n,))\n",
    "    err_list = []\n",
    "    for i in range(epochs):\n",
    "        err = error(x,theta,y)\n",
    "        err_list.append(err)\n",
    "        grad = gradient(x,theta,y)\n",
    "        theta = theta-learning_rate*grad\n",
    "    return theta,err_list"
   ]
  },
  {
   "cell_type": "code",
   "execution_count": 8,
   "metadata": {},
   "outputs": [
    {
     "data": {
      "text/plain": [
       "[<matplotlib.lines.Line2D at 0x9040250>]"
      ]
     },
     "execution_count": 8,
     "metadata": {},
     "output_type": "execute_result"
    },
    {
     "data": {
      "image/png": "[encoded data removed]",
      "text/plain": [
       "<Figure size 432x288 with 1 Axes>"
      ]
     },
     "metadata": {
      "needs_background": "light"
     },
     "output_type": "display_data"
    }
   ],
   "source": [
    "theta,err_list = gradient_descent(x,y)\n",
    "plt.plot(err_list)"
   ]
  },
  {
   "cell_type": "code",
   "execution_count": 17,
   "metadata": {},
   "outputs": [
    {
     "data": {
      "text/plain": [
       "[<matplotlib.lines.Line2D at 0xe1a5b0>]"
      ]
     },
     "execution_count": 17,
     "metadata": {},
     "output_type": "execute_result"
    },
    {
     "data": {
      "image/png": "[encoded data removed]",
      "text/plain": [
       "<Figure size 432x288 with 1 Axes>"
      ]
     },
     "metadata": {
      "needs_background": "light"
     },
     "output_type": "display_data"
    }
   ],
   "source": [
    "t=x[:,2]\n",
    "plt.plot(t,y,'*')"
   ]
  },
  {
   "cell_type": "code",
   "execution_count": 18,
   "metadata": {},
   "outputs": [
    {
     "data": {
      "text/plain": [
       "array([9.98698018e-01, 9.91927175e-04, 9.99719235e-01, 2.20837837e-02,\n",
       "       9.99667523e-01, 3.94919045e-04, 3.33524793e-03, 9.99883568e-01,\n",
       "       4.77219317e-02, 9.99603832e-01, 9.98431911e-01, 9.99829071e-01,\n",
       "       9.99570653e-01, 1.00727736e-02, 3.13879994e-03, 9.99963907e-01,\n",
       "       1.15535662e-02, 9.99745340e-01, 3.34969356e-02, 9.98999322e-01,\n",
       "       9.98305601e-01, 9.98893871e-01, 5.42376393e-02, 1.08955464e-02,\n",
       "       9.98796505e-01, 9.99858878e-01, 1.66796827e-03, 3.31459643e-03,\n",
       "       7.27407284e-02, 9.99814966e-01, 1.38021282e-03, 3.19336762e-03,\n",
       "       9.99876189e-01, 9.99439120e-01, 9.98310352e-01, 9.99902743e-01,\n",
       "       6.80273554e-03, 9.94398809e-04, 9.99603474e-01, 7.91942151e-03,\n",
       "       9.99973921e-01, 9.99866965e-01, 1.66675438e-02, 9.99842415e-01,\n",
       "       9.99780374e-01, 9.99235748e-01, 1.01671835e-01, 9.99301742e-01,\n",
       "       1.29249831e-03, 8.68434680e-02, 4.14573804e-03, 9.97643981e-01,\n",
       "       9.99935600e-01, 9.99768764e-01, 4.27026583e-04, 9.99647148e-01,\n",
       "       9.99762342e-01, 4.76675795e-04, 6.56242997e-04, 6.76303949e-04,\n",
       "       1.50850733e-04, 2.98052859e-03, 5.87741626e-03, 9.99754827e-01,\n",
       "       6.80726030e-04, 5.80659913e-03, 9.99118539e-01, 8.26446289e-03,\n",
       "       1.82904491e-03, 9.99102371e-01, 9.99708335e-01, 9.35916693e-04,\n",
       "       9.98650990e-01, 9.98358981e-01, 9.98311996e-01, 1.61405334e-03,\n",
       "       9.99828809e-01, 9.99896077e-01, 9.99965996e-01, 1.48240403e-03,\n",
       "       9.99930148e-01, 1.14112885e-02, 9.99908133e-01, 1.46456421e-03,\n",
       "       2.04314414e-03, 3.76317064e-03, 1.80296900e-03, 1.22096147e-03,\n",
       "       1.47509212e-02, 9.99875098e-01, 8.87227460e-04, 9.99854379e-01,\n",
       "       2.80459678e-03, 9.99698527e-01, 1.74308948e-03, 9.99342557e-01,\n",
       "       3.52198689e-02, 9.98484930e-01, 9.99945607e-01, 1.07357579e-03,\n",
       "       2.09071737e-02, 9.98073131e-01, 1.06029853e-02, 1.28172542e-02,\n",
       "       2.05673902e-02, 1.44242785e-03, 9.99993061e-01, 1.15002355e-04,\n",
       "       2.46211384e-03, 7.79276142e-03, 2.41730188e-04, 8.24142922e-03,\n",
       "       2.47636219e-03, 3.60332020e-04, 1.17953618e-02, 4.85835935e-04,\n",
       "       1.71104981e-03, 9.99898226e-01, 3.14766503e-03, 9.94891332e-01,\n",
       "       9.99712275e-01, 3.99242137e-03, 9.97006920e-01, 9.98120208e-01,\n",
       "       9.99620320e-01, 5.71695163e-04, 9.51715361e-04, 9.99948959e-01,\n",
       "       9.99543328e-01, 1.72589918e-02, 2.78594296e-02, 4.73408296e-03,\n",
       "       9.50720941e-03, 9.99660115e-01, 9.99600348e-01, 9.99924512e-01,\n",
       "       2.47349120e-04, 9.99275203e-01, 1.45604959e-04, 2.18378605e-03,\n",
       "       9.99481979e-01, 7.72615422e-04, 9.98422207e-01, 1.27937329e-03,\n",
       "       5.69312033e-03, 2.85957454e-03, 9.99841842e-01, 1.86274158e-03,\n",
       "       9.98660560e-01, 9.99615872e-01, 9.98744092e-01, 7.75894695e-03,\n",
       "       7.24544401e-03, 9.98801332e-01, 2.88518099e-04, 9.99276912e-01,\n",
       "       9.99649961e-01, 2.23782089e-03, 1.07951179e-03, 1.28727703e-02,\n",
       "       9.10183041e-04, 6.95709943e-03, 1.98636963e-03, 7.01386795e-04,\n",
       "       9.99988800e-01, 9.99752224e-01, 9.99741493e-01, 9.91017508e-01,\n",
       "       4.01289453e-03, 9.99655411e-01, 2.94252119e-04, 4.29567513e-03,\n",
       "       1.08469692e-01, 2.13865449e-03, 1.34479001e-02, 9.99603463e-01,\n",
       "       5.99563903e-04, 9.99873290e-01, 9.98561132e-01, 9.98257207e-01,\n",
       "       4.72457864e-04, 2.79810426e-04, 9.99574002e-01, 9.99892927e-01,\n",
       "       9.98834812e-01, 9.99799083e-01, 9.95384313e-01, 2.13189517e-04,\n",
       "       9.99912893e-01, 8.92901452e-03, 1.10458771e-02, 9.99982850e-01,\n",
       "       9.99085361e-01, 9.99731548e-01, 1.60585921e-03, 9.99510434e-01,\n",
       "       3.07857241e-03, 9.99597931e-01, 8.46185376e-04, 9.99404100e-01,\n",
       "       4.64795003e-03, 9.99928156e-01, 9.99793034e-01, 9.99308140e-01,\n",
       "       9.99568518e-01, 2.04844212e-03, 9.97223867e-01, 9.98588825e-01,\n",
       "       6.69929428e-04, 9.99642644e-01, 2.39446733e-03, 9.99092807e-01,\n",
       "       9.99746469e-01, 9.99561965e-01, 9.99827535e-01, 3.05153004e-03,\n",
       "       1.21957701e-02, 3.77798041e-03, 9.99666356e-01, 9.99300370e-01,\n",
       "       8.07769809e-03, 9.99957704e-01, 2.67108589e-02, 4.06935506e-04,\n",
       "       2.26840357e-03, 9.99719099e-01, 6.65771274e-03, 5.78897327e-03,\n",
       "       9.99839072e-01, 7.32214144e-04, 9.99960591e-01, 1.88948845e-03,\n",
       "       1.06944874e-02, 1.63566769e-02, 2.11470840e-04, 9.99253726e-01,\n",
       "       2.31086794e-03, 9.98895758e-01, 9.99683249e-01, 4.70420747e-03,\n",
       "       9.99634821e-01, 9.99802389e-01, 9.99508245e-01, 9.99519544e-01,\n",
       "       9.99828757e-01, 8.78835796e-03, 9.99904066e-01, 1.28815923e-02,\n",
       "       9.99823296e-01, 6.41837856e-03, 6.52088173e-04, 9.99951184e-01,\n",
       "       9.99970484e-01, 3.12321856e-03, 8.70434237e-03, 4.69136080e-03,\n",
       "       9.99717529e-01, 5.98298321e-04, 4.94228294e-03, 9.98751104e-01,\n",
       "       5.39485777e-02, 2.37431098e-02, 7.79083873e-04, 4.31050519e-03,\n",
       "       9.99952407e-01, 9.99528966e-01, 9.99702340e-01, 4.84134072e-03,\n",
       "       1.99031558e-03, 4.11767914e-03, 9.99758064e-01, 3.14804428e-03,\n",
       "       5.87337949e-04, 9.99007293e-01, 8.73129051e-04, 5.13457612e-04,\n",
       "       9.99874212e-01, 1.89363782e-03, 9.92725255e-01, 5.36097312e-03,\n",
       "       9.99572178e-01, 9.99724762e-01, 4.55074859e-04, 9.99619727e-01,\n",
       "       9.15689965e-03, 1.23126810e-03, 9.99934632e-01, 7.76711238e-03,\n",
       "       1.51514000e-03, 4.78421889e-03, 9.99802097e-01, 9.99249630e-01,\n",
       "       9.99754810e-01, 9.99773001e-01, 1.74641420e-03, 9.96357992e-01,\n",
       "       1.21454657e-03, 9.98470906e-01, 9.99325146e-01, 9.98973097e-01,\n",
       "       9.99327967e-01, 9.99835476e-01, 4.96818185e-03, 9.99147510e-01,\n",
       "       9.97640097e-01, 2.91733833e-03, 9.99781029e-01, 9.99988199e-01,\n",
       "       7.41653878e-04, 1.31979091e-03, 9.99186569e-01, 9.99847282e-01,\n",
       "       9.99858290e-01, 1.41278037e-02, 3.40688470e-03, 9.99908077e-01,\n",
       "       9.99672283e-01, 5.03319788e-03, 2.93437957e-03, 9.97507559e-01,\n",
       "       9.99890834e-01, 1.12630428e-02, 2.33994316e-02, 9.99640865e-01,\n",
       "       8.49018047e-04, 3.17231664e-03, 6.99053786e-04, 9.99495113e-01,\n",
       "       9.99970718e-01, 9.99821671e-01, 9.20796333e-03, 4.27076939e-03,\n",
       "       9.98835969e-01, 9.98028894e-01, 7.38633141e-03, 4.70484383e-03,\n",
       "       9.98938328e-01, 9.98739366e-01, 5.16479470e-03, 9.99916640e-01,\n",
       "       9.98916675e-01, 1.64168897e-04, 3.73291651e-04, 6.58884270e-04,\n",
       "       4.58462499e-03, 1.34362635e-03, 4.77878521e-02, 1.70497414e-02,\n",
       "       9.98855076e-01, 9.99789139e-01, 9.99910710e-01, 6.81924476e-03,\n",
       "       9.48962032e-03, 9.99405240e-01, 9.99855335e-01, 2.21499053e-03,\n",
       "       3.82444802e-03, 7.37710319e-03, 9.89007876e-01, 3.96267929e-03,\n",
       "       1.00004931e-03, 9.99891223e-01, 3.59952807e-04, 1.01739261e-03,\n",
       "       9.99794597e-01, 9.96634973e-01, 9.98654640e-01, 8.64803484e-04,\n",
       "       9.98586812e-01, 9.99655340e-01, 9.97564827e-01, 9.99531483e-01,\n",
       "       9.96199081e-01, 9.99942442e-01, 8.30085219e-04, 9.99858889e-01,\n",
       "       6.83435731e-04, 9.99780378e-01, 1.37059248e-03, 8.17371363e-03,\n",
       "       1.67865792e-03, 1.40811442e-03, 9.99759503e-01, 2.75236115e-03,\n",
       "       9.99906256e-01, 9.99436638e-01, 1.58808017e-03, 8.52134259e-04,\n",
       "       6.33664889e-04, 9.99989159e-01, 9.99476825e-01, 5.85787160e-04,\n",
       "       9.99892352e-01, 4.59798726e-03, 1.98980467e-04, 3.94575846e-03,\n",
       "       5.41103485e-03, 9.99961255e-01, 2.18002510e-03, 9.99707372e-01,\n",
       "       1.13367550e-03, 9.97064458e-01, 9.99944368e-01, 9.99352548e-01,\n",
       "       9.99926484e-01, 9.99948256e-01, 9.99949591e-01, 1.72421471e-04,\n",
       "       4.09527446e-03, 9.98665608e-01, 5.50895630e-03, 9.99823709e-01,\n",
       "       1.47274332e-03, 1.31107655e-03, 9.99793289e-01, 1.71673902e-03,\n",
       "       4.65206536e-04, 9.99679104e-01, 6.09838374e-03, 1.32352572e-02,\n",
       "       9.99917149e-01, 3.76468049e-03, 9.99707253e-01, 9.99951375e-01,\n",
       "       2.19664850e-04, 1.28691235e-03, 8.73333975e-03, 9.99803785e-01,\n",
       "       2.31355017e-03, 9.99529396e-01, 9.97290820e-01, 2.20086795e-03,\n",
       "       9.96049766e-01, 9.98706461e-01, 1.11457528e-03, 9.99958217e-01,\n",
       "       9.99377763e-01, 9.99308608e-01, 2.40574045e-03, 1.53651946e-02,\n",
       "       9.99019503e-01, 9.99969931e-01, 9.99772445e-01, 9.99912988e-01,\n",
       "       6.49771670e-02, 3.26850297e-03, 9.99453584e-01, 9.99894016e-01,\n",
       "       9.99741826e-01, 9.99622790e-01, 9.99237491e-01, 9.99292803e-01,\n",
       "       9.99967738e-01, 9.99669926e-01, 9.99895403e-01, 2.52275940e-04,\n",
       "       9.54638165e-01, 9.99769277e-01, 1.07960911e-03, 4.31116926e-03,\n",
       "       9.99669749e-01, 1.33846336e-03, 9.99837803e-01, 3.72835102e-03,\n",
       "       9.85401238e-04, 7.86711591e-03, 3.64151017e-03, 9.99107998e-01,\n",
       "       7.01583719e-03, 9.99616467e-01, 8.51617569e-04, 4.33635496e-02,\n",
       "       9.99624780e-01, 9.97332531e-01, 1.20367368e-03, 9.99701814e-01,\n",
       "       1.46245931e-03, 9.97682522e-01, 9.99988886e-01, 1.26744869e-02,\n",
       "       4.75065086e-03, 9.99817805e-01, 4.04323364e-03, 9.99749493e-01,\n",
       "       9.99765241e-01, 1.22913882e-02, 6.26104974e-03, 6.84567131e-03,\n",
       "       9.98099205e-01, 9.99940980e-01, 1.38237724e-02, 3.50631203e-03,\n",
       "       9.99729505e-01, 9.99822786e-01, 9.99621341e-01, 9.99682344e-01,\n",
       "       9.99902357e-01, 9.99856347e-01, 1.55511944e-03, 9.99751172e-01])"
      ]
     },
     "execution_count": 18,
     "metadata": {},
     "output_type": "execute_result"
    }
   ],
   "source": [
    "y_=hypothesis(x,theta)\n",
    "y_"
   ]
  },
  {
   "cell_type": "code",
   "execution_count": 19,
   "metadata": {},
   "outputs": [],
   "source": [
    "y_[y_<=0.5]=0\n",
    "y_[y_>0.5]=1"
   ]
  },
  {
   "cell_type": "code",
   "execution_count": 20,
   "metadata": {},
   "outputs": [
    {
     "data": {
      "text/plain": [
       "array([1., 0., 1., 0., 1., 0., 0., 1., 0., 1., 1., 1., 1., 0., 0., 1., 0.,\n",
       "       1., 0., 1., 1., 1., 0., 0., 1., 1., 0., 0., 0., 1., 0., 0., 1., 1.,\n",
       "       1., 1., 0., 0., 1., 0., 1., 1., 0., 1., 1., 1., 0., 1., 0., 0., 0.,\n",
       "       1., 1., 1., 0., 1., 1., 0., 0., 0., 0., 0., 0., 1., 0., 0., 1., 0.,\n",
       "       0., 1., 1., 0., 1., 1., 1., 0., 1., 1., 1., 0., 1., 0., 1., 0., 0.,\n",
       "       0., 0., 0., 0., 1., 0., 1., 0., 1., 0., 1., 0., 1., 1., 0., 0., 1.,\n",
       "       0., 0., 0., 0., 1., 0., 0., 0., 0., 0., 0., 0., 0., 0., 0., 1., 0.,\n",
       "       1., 1., 0., 1., 1., 1., 0., 0., 1., 1., 0., 0., 0., 0., 1., 1., 1.,\n",
       "       0., 1., 0., 0., 1., 0., 1., 0., 0., 0., 1., 0., 1., 1., 1., 0., 0.,\n",
       "       1., 0., 1., 1., 0., 0., 0., 0., 0., 0., 0., 1., 1., 1., 1., 0., 1.,\n",
       "       0., 0., 0., 0., 0., 1., 0., 1., 1., 1., 0., 0., 1., 1., 1., 1., 1.,\n",
       "       0., 1., 0., 0., 1., 1., 1., 0., 1., 0., 1., 0., 1., 0., 1., 1., 1.,\n",
       "       1., 0., 1., 1., 0., 1., 0., 1., 1., 1., 1., 0., 0., 0., 1., 1., 0.,\n",
       "       1., 0., 0., 0., 1., 0., 0., 1., 0., 1., 0., 0., 0., 0., 1., 0., 1.,\n",
       "       1., 0., 1., 1., 1., 1., 1., 0., 1., 0., 1., 0., 0., 1., 1., 0., 0.,\n",
       "       0., 1., 0., 0., 1., 0., 0., 0., 0., 1., 1., 1., 0., 0., 0., 1., 0.,\n",
       "       0., 1., 0., 0., 1., 0., 1., 0., 1., 1., 0., 1., 0., 0., 1., 0., 0.,\n",
       "       0., 1., 1., 1., 1., 0., 1., 0., 1., 1., 1., 1., 1., 0., 1., 1., 0.,\n",
       "       1., 1., 0., 0., 1., 1., 1., 0., 0., 1., 1., 0., 0., 1., 1., 0., 0.,\n",
       "       1., 0., 0., 0., 1., 1., 1., 0., 0., 1., 1., 0., 0., 1., 1., 0., 1.,\n",
       "       1., 0., 0., 0., 0., 0., 0., 0., 1., 1., 1., 0., 0., 1., 1., 0., 0.,\n",
       "       0., 1., 0., 0., 1., 0., 0., 1., 1., 1., 0., 1., 1., 1., 1., 1., 1.,\n",
       "       0., 1., 0., 1., 0., 0., 0., 0., 1., 0., 1., 1., 0., 0., 0., 1., 1.,\n",
       "       0., 1., 0., 0., 0., 0., 1., 0., 1., 0., 1., 1., 1., 1., 1., 1., 0.,\n",
       "       0., 1., 0., 1., 0., 0., 1., 0., 0., 1., 0., 0., 1., 0., 1., 1., 0.,\n",
       "       0., 0., 1., 0., 1., 1., 0., 1., 1., 0., 1., 1., 1., 0., 0., 1., 1.,\n",
       "       1., 1., 0., 0., 1., 1., 1., 1., 1., 1., 1., 1., 1., 0., 1., 1., 0.,\n",
       "       0., 1., 0., 1., 0., 0., 0., 0., 1., 0., 1., 0., 0., 1., 1., 0., 1.,\n",
       "       0., 1., 1., 0., 0., 1., 0., 1., 1., 0., 0., 0., 1., 1., 0., 0., 1.,\n",
       "       1., 1., 1., 1., 1., 0., 1.])"
      ]
     },
     "execution_count": 20,
     "metadata": {},
     "output_type": "execute_result"
    }
   ],
   "source": [
    "y_"
   ]
  },
  {
   "cell_type": "code",
   "execution_count": 26,
   "metadata": {},
   "outputs": [
    {
     "data": {
      "image/png": "[encoded data removed]",
      "text/plain": [
       "<Figure size 432x288 with 1 Axes>"
      ]
     },
     "metadata": {
      "needs_background": "light"
     },
     "output_type": "display_data"
    },
    {
     "data": {
      "image/png": "[encoded data removed]",
      "text/plain": [
       "<Figure size 432x288 with 1 Axes>"
      ]
     },
     "metadata": {
      "needs_background": "light"
     },
     "output_type": "display_data"
    }
   ],
   "source": [
    "plt.scatter(x[:,1],y)\n",
    "plt.show()\n",
    "plt.scatter(x[:,1],y_,color='red')\n",
    "plt.ylabel('OUTPUT')\n",
    "plt.show()"
   ]
  },
  {
   "cell_type": "code",
   "execution_count": 27,
   "metadata": {},
   "outputs": [
    {
     "data": {
      "text/plain": [
       "1.0"
      ]
     },
     "execution_count": 27,
     "metadata": {},
     "output_type": "execute_result"
    }
   ],
   "source": [
    "np.mean(y_==y)"
   ]
  },
  {
   "cell_type": "code",
   "execution_count": 42,
   "metadata": {},
   "outputs": [
    {
     "data": {
      "text/plain": [
       "[<matplotlib.lines.Line2D at 0xf39d18>]"
      ]
     },
     "execution_count": 42,
     "metadata": {},
     "output_type": "execute_result"
    },
    {
     "data": {
      "image/png": "[encoded data removed]",
      "text/plain": [
       "<Figure size 432x288 with 1 Axes>"
      ]
     },
     "metadata": {
      "needs_background": "light"
     },
     "output_type": "display_data"
    }
   ],
   "source": [
    "\n",
    "x1=np.linspace(-14,2,20)\n",
    "x2=-(theta[0]+theta[1]*x1)/theta[2]\n",
    "plt.scatter(x[:,1],x[:,2],c=y,cmap=plt.cm.Accent)\n",
    "plt.plot(x1,x2,c='red')"
   ]
  },
  {
   "cell_type": "code",
   "execution_count": null,
   "metadata": {},
   "outputs": [],
   "source": []
  }
 ],
 "metadata": {
  "kernelspec": {
   "display_name": "Python 3",
   "language": "python",
   "name": "python3"
  },
  "language_info": {
   "codemirror_mode": {
    "name": "ipython",
    "version": 3
   },
   "file_extension": ".py",
   "mimetype": "text/x-python",
   "name": "python",
   "nbconvert_exporter": "python",
   "pygments_lexer": "ipython3",
   "version": "3.8.5"
  }
 },
 "nbformat": 4,
 "nbformat_minor": 4
}

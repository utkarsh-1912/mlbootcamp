{
 "cells": [
  {
   "cell_type": "markdown",
   "metadata": {},
   "source": [
    "# Neural Network"
   ]
  },
  {
   "cell_type": "code",
   "execution_count": 1,
   "metadata": {},
   "outputs": [],
   "source": [
    "import numpy as np\n",
    "import pandas as pd\n",
    "from matplotlib import pyplot as plt"
   ]
  },
  {
   "cell_type": "code",
   "execution_count": 2,
   "metadata": {},
   "outputs": [],
   "source": [
    "data_tst=pd.read_csv('/Users/DEEPAK/downloads/Datasets/mnist_test.csv')\n",
    "data_tain=pd.read_csv('/Users/DEEPAK/downloads/mnist_train_small.csv')"
   ]
  },
  {
   "cell_type": "code",
   "execution_count": 3,
   "metadata": {},
   "outputs": [
    {
     "data": {
      "text/html": [
       "<div>\n",
       "<style scoped>\n",
       "    .dataframe tbody tr th:only-of-type {\n",
       "        vertical-align: middle;\n",
       "    }\n",
       "\n",
       "    .dataframe tbody tr th {\n",
       "        vertical-align: top;\n",
       "    }\n",
       "\n",
       "    .dataframe thead th {\n",
       "        text-align: right;\n",
       "    }\n",
       "</style>\n",
       "<table border=\"1\" class=\"dataframe\">\n",
       "  <thead>\n",
       "    <tr style=\"text-align: right;\">\n",
       "      <th></th>\n",
       "      <th>6</th>\n",
       "      <th>0</th>\n",
       "      <th>0.1</th>\n",
       "      <th>0.2</th>\n",
       "      <th>0.3</th>\n",
       "      <th>0.4</th>\n",
       "      <th>0.5</th>\n",
       "      <th>0.6</th>\n",
       "      <th>0.7</th>\n",
       "      <th>0.8</th>\n",
       "      <th>...</th>\n",
       "      <th>0.581</th>\n",
       "      <th>0.582</th>\n",
       "      <th>0.583</th>\n",
       "      <th>0.584</th>\n",
       "      <th>0.585</th>\n",
       "      <th>0.586</th>\n",
       "      <th>0.587</th>\n",
       "      <th>0.588</th>\n",
       "      <th>0.589</th>\n",
       "      <th>0.590</th>\n",
       "    </tr>\n",
       "  </thead>\n",
       "  <tbody>\n",
       "    <tr>\n",
       "      <th>0</th>\n",
       "      <td>5</td>\n",
       "      <td>0</td>\n",
       "      <td>0</td>\n",
       "      <td>0</td>\n",
       "      <td>0</td>\n",
       "      <td>0</td>\n",
       "      <td>0</td>\n",
       "      <td>0</td>\n",
       "      <td>0</td>\n",
       "      <td>0</td>\n",
       "      <td>...</td>\n",
       "      <td>0</td>\n",
       "      <td>0</td>\n",
       "      <td>0</td>\n",
       "      <td>0</td>\n",
       "      <td>0</td>\n",
       "      <td>0</td>\n",
       "      <td>0</td>\n",
       "      <td>0</td>\n",
       "      <td>0</td>\n",
       "      <td>0</td>\n",
       "    </tr>\n",
       "    <tr>\n",
       "      <th>1</th>\n",
       "      <td>7</td>\n",
       "      <td>0</td>\n",
       "      <td>0</td>\n",
       "      <td>0</td>\n",
       "      <td>0</td>\n",
       "      <td>0</td>\n",
       "      <td>0</td>\n",
       "      <td>0</td>\n",
       "      <td>0</td>\n",
       "      <td>0</td>\n",
       "      <td>...</td>\n",
       "      <td>0</td>\n",
       "      <td>0</td>\n",
       "      <td>0</td>\n",
       "      <td>0</td>\n",
       "      <td>0</td>\n",
       "      <td>0</td>\n",
       "      <td>0</td>\n",
       "      <td>0</td>\n",
       "      <td>0</td>\n",
       "      <td>0</td>\n",
       "    </tr>\n",
       "    <tr>\n",
       "      <th>2</th>\n",
       "      <td>9</td>\n",
       "      <td>0</td>\n",
       "      <td>0</td>\n",
       "      <td>0</td>\n",
       "      <td>0</td>\n",
       "      <td>0</td>\n",
       "      <td>0</td>\n",
       "      <td>0</td>\n",
       "      <td>0</td>\n",
       "      <td>0</td>\n",
       "      <td>...</td>\n",
       "      <td>0</td>\n",
       "      <td>0</td>\n",
       "      <td>0</td>\n",
       "      <td>0</td>\n",
       "      <td>0</td>\n",
       "      <td>0</td>\n",
       "      <td>0</td>\n",
       "      <td>0</td>\n",
       "      <td>0</td>\n",
       "      <td>0</td>\n",
       "    </tr>\n",
       "    <tr>\n",
       "      <th>3</th>\n",
       "      <td>5</td>\n",
       "      <td>0</td>\n",
       "      <td>0</td>\n",
       "      <td>0</td>\n",
       "      <td>0</td>\n",
       "      <td>0</td>\n",
       "      <td>0</td>\n",
       "      <td>0</td>\n",
       "      <td>0</td>\n",
       "      <td>0</td>\n",
       "      <td>...</td>\n",
       "      <td>0</td>\n",
       "      <td>0</td>\n",
       "      <td>0</td>\n",
       "      <td>0</td>\n",
       "      <td>0</td>\n",
       "      <td>0</td>\n",
       "      <td>0</td>\n",
       "      <td>0</td>\n",
       "      <td>0</td>\n",
       "      <td>0</td>\n",
       "    </tr>\n",
       "    <tr>\n",
       "      <th>4</th>\n",
       "      <td>2</td>\n",
       "      <td>0</td>\n",
       "      <td>0</td>\n",
       "      <td>0</td>\n",
       "      <td>0</td>\n",
       "      <td>0</td>\n",
       "      <td>0</td>\n",
       "      <td>0</td>\n",
       "      <td>0</td>\n",
       "      <td>0</td>\n",
       "      <td>...</td>\n",
       "      <td>0</td>\n",
       "      <td>0</td>\n",
       "      <td>0</td>\n",
       "      <td>0</td>\n",
       "      <td>0</td>\n",
       "      <td>0</td>\n",
       "      <td>0</td>\n",
       "      <td>0</td>\n",
       "      <td>0</td>\n",
       "      <td>0</td>\n",
       "    </tr>\n",
       "  </tbody>\n",
       "</table>\n",
       "<p>5 rows × 785 columns</p>\n",
       "</div>"
      ],
      "text/plain": [
       "   6  0  0.1  0.2  0.3  0.4  0.5  0.6  0.7  0.8  ...  0.581  0.582  0.583  \\\n",
       "0  5  0    0    0    0    0    0    0    0    0  ...      0      0      0   \n",
       "1  7  0    0    0    0    0    0    0    0    0  ...      0      0      0   \n",
       "2  9  0    0    0    0    0    0    0    0    0  ...      0      0      0   \n",
       "3  5  0    0    0    0    0    0    0    0    0  ...      0      0      0   \n",
       "4  2  0    0    0    0    0    0    0    0    0  ...      0      0      0   \n",
       "\n",
       "   0.584  0.585  0.586  0.587  0.588  0.589  0.590  \n",
       "0      0      0      0      0      0      0      0  \n",
       "1      0      0      0      0      0      0      0  \n",
       "2      0      0      0      0      0      0      0  \n",
       "3      0      0      0      0      0      0      0  \n",
       "4      0      0      0      0      0      0      0  \n",
       "\n",
       "[5 rows x 785 columns]"
      ]
     },
     "execution_count": 3,
     "metadata": {},
     "output_type": "execute_result"
    }
   ],
   "source": [
    "data_tain.head()"
   ]
  },
  {
   "cell_type": "markdown",
   "metadata": {},
   "source": [
    "Shuffling the dataset before splitting in training sets"
   ]
  },
  {
   "cell_type": "code",
   "execution_count": 10,
   "metadata": {},
   "outputs": [],
   "source": [
    "data_tain=np.array(data_tain)\n",
    "m, n = data_tst.shape\n",
    "#np.random.shuffle(data_tain) # shuffle before splitting into dev and training sets\n",
    "data_tst=np.array(data_tst)\n",
    "data_test = data_tst[0:m].T\n",
    "Y_test = data_test[0]\n",
    "X_test = data_test[1:n]\n",
    "X_test = X_test / 255.\n",
    "p,q=data_tain.shape\n",
    "data_train = data_tain[0:p].T\n",
    "Y_train = data_train[0]\n",
    "X_train = data_train[1:q]\n",
    "X_train = X_train / 255.\n",
    "_,m_train = X_train.shape"
   ]
  },
  {
   "cell_type": "code",
   "execution_count": 11,
   "metadata": {},
   "outputs": [
    {
     "data": {
      "text/plain": [
       "array([5, 7, 9, ..., 2, 9, 5], dtype=int64)"
      ]
     },
     "execution_count": 11,
     "metadata": {},
     "output_type": "execute_result"
    }
   ],
   "source": [
    "Y_train"
   ]
  },
  {
   "cell_type": "markdown",
   "metadata": {},
   "source": []
  },
  {
   "cell_type": "code",
   "execution_count": 12,
   "metadata": {},
   "outputs": [],
   "source": [
    "def init_parameters():\n",
    "    W1 = np.random.rand(10, 784) - 0.5\n",
    "    b1 = np.random.rand(10, 1) - 0.5\n",
    "    W2 = np.random.rand(10, 10) - 0.5\n",
    "    b2 = np.random.rand(10, 1) - 0.5\n",
    "    return W1, b1, W2, b2\n",
    "\n",
    "def Max_v(Z):\n",
    "    return np.maximum(Z, 0)\n",
    "\n",
    "def softmax(Z):\n",
    "    A = np.exp(Z) / sum(np.exp(Z))\n",
    "    return A\n",
    "    \n",
    "def forward_prop(W1, b1, W2, b2, X):\n",
    "    Z1 = W1.dot(X) + b1\n",
    "    A1 = Max_v(Z1)\n",
    "    Z2 = W2.dot(A1) + b2\n",
    "    A2 = softmax(Z2)\n",
    "    return Z1, A1, Z2, A2\n",
    "\n",
    "def max_v_deriv(Z):\n",
    "    return Z > 0\n",
    "\n",
    "def one_hot(Y):\n",
    "    one_hot_Y = np.zeros((Y.size, Y.max() + 1))\n",
    "    one_hot_Y[np.arange(Y.size), Y] = 1\n",
    "    one_hot_Y = one_hot_Y.T\n",
    "    return one_hot_Y\n",
    "\n",
    "def backward_prop(Z1, A1, Z2, A2, W1, W2, X, Y):\n",
    "    one_hot_Y = one_hot(Y)\n",
    "    dZ2 = A2 - one_hot_Y\n",
    "    dW2 = 1 / m * dZ2.dot(A1.T)\n",
    "    db2 = 1 / m * np.sum(dZ2)\n",
    "    dZ1 = W2.T.dot(dZ2) * max_v_deriv(Z1)\n",
    "    dW1 = 1 / m * dZ1.dot(X.T)\n",
    "    db1 = 1 / m * np.sum(dZ1)\n",
    "    return dW1, db1, dW2, db2\n",
    "\n",
    "def update_parameters(W1, b1, W2, b2, dW1, db1, dW2, db2, alpha):\n",
    "    W1 = W1 - alpha * dW1\n",
    "    b1 = b1 - alpha * db1    \n",
    "    W2 = W2 - alpha * dW2  \n",
    "    b2 = b2 - alpha * db2    \n",
    "    return W1, b1, W2, b2\n",
    "def get_predictions(A2):\n",
    "    return np.argmax(A2, 0)\n",
    "\n",
    "def get_accuracy(predictions, Y):\n",
    "    print(predictions, Y)\n",
    "    return np.sum(predictions == Y) / Y.size\n",
    "\n",
    "def gradient_descent(X, Y, alpha, iterations):\n",
    "    W1, b1, W2, b2 = init_parameters()\n",
    "    for i in range(iterations):\n",
    "        Z1, A1, Z2, A2 = forward_prop(W1, b1, W2, b2, X)\n",
    "        dW1, db1, dW2, db2 = backward_prop(Z1, A1, Z2, A2, W1, W2, X, Y)\n",
    "        W1, b1, W2, b2 = update_parameters(W1, b1, W2, b2, dW1, db1, dW2, db2, alpha)\n",
    "        if i % 10 == 0:\n",
    "            print(\"Iteration: \", i)\n",
    "            predictions = get_predictions(A2)\n",
    "            print(get_accuracy(predictions, Y))\n",
    "    return W1, b1, W2, b2"
   ]
  },
  {
   "cell_type": "code",
   "execution_count": 13,
   "metadata": {},
   "outputs": [
    {
     "name": "stdout",
     "output_type": "stream",
     "text": [
      "Iteration:  0\n",
      "[0 4 9 ... 2 3 3] [5 7 9 ... 2 9 5]\n",
      "0.12905645282264114\n",
      "Iteration:  10\n",
      "[0 0 9 ... 3 9 7] [5 7 9 ... 2 9 5]\n",
      "0.2504125206260313\n",
      "Iteration:  20\n",
      "[0 0 9 ... 0 9 1] [5 7 9 ... 2 9 5]\n",
      "0.41637081854092706\n",
      "Iteration:  30\n",
      "[0 0 9 ... 2 9 1] [5 7 9 ... 2 9 5]\n",
      "0.5750787539376969\n",
      "Iteration:  40\n",
      "[0 0 9 ... 2 9 4] [5 7 9 ... 2 9 5]\n",
      "0.6502825141257063\n",
      "Iteration:  50\n",
      "[5 0 9 ... 2 9 5] [5 7 9 ... 2 9 5]\n",
      "0.688184409220461\n",
      "Iteration:  60\n",
      "[5 0 9 ... 2 9 5] [5 7 9 ... 2 9 5]\n",
      "0.7140857042852142\n",
      "Iteration:  70\n",
      "[5 0 9 ... 2 9 5] [5 7 9 ... 2 9 5]\n",
      "0.7344367218360918\n",
      "Iteration:  80\n",
      "[5 0 9 ... 2 9 5] [5 7 9 ... 2 9 5]\n",
      "0.7488374418720936\n",
      "Iteration:  90\n",
      "[5 0 9 ... 2 9 5] [5 7 9 ... 2 9 5]\n",
      "0.7605880294014701\n",
      "Iteration:  100\n",
      "[5 0 9 ... 2 9 5] [5 7 9 ... 2 9 5]\n",
      "0.7721386069303465\n",
      "Iteration:  110\n",
      "[5 0 9 ... 2 9 5] [5 7 9 ... 2 9 5]\n",
      "0.7817390869543477\n",
      "Iteration:  120\n",
      "[5 0 9 ... 2 9 5] [5 7 9 ... 2 9 5]\n",
      "0.7895394769738487\n",
      "Iteration:  130\n",
      "[5 0 9 ... 2 9 5] [5 7 9 ... 2 9 5]\n",
      "0.7970898544927246\n",
      "Iteration:  140\n",
      "[5 0 9 ... 2 9 5] [5 7 9 ... 2 9 5]\n",
      "0.8025901295064753\n",
      "Iteration:  150\n",
      "[5 0 9 ... 2 9 5] [5 7 9 ... 2 9 5]\n",
      "0.8072403620181009\n",
      "Iteration:  160\n",
      "[5 0 9 ... 2 9 5] [5 7 9 ... 2 9 5]\n",
      "0.8127906395319766\n",
      "Iteration:  170\n",
      "[5 0 9 ... 2 9 5] [5 7 9 ... 2 9 5]\n",
      "0.8172908645432272\n",
      "Iteration:  180\n",
      "[5 0 9 ... 2 9 5] [5 7 9 ... 2 9 5]\n",
      "0.8234411720586029\n",
      "Iteration:  190\n",
      "[5 0 9 ... 2 9 5] [5 7 9 ... 2 9 5]\n",
      "0.8272913645682284\n",
      "Iteration:  200\n",
      "[5 0 9 ... 2 9 5] [5 7 9 ... 2 9 5]\n",
      "0.8305915295764789\n",
      "Iteration:  210\n",
      "[5 0 9 ... 2 9 5] [5 7 9 ... 2 9 5]\n",
      "0.8342417120856043\n",
      "Iteration:  220\n",
      "[5 0 9 ... 2 9 5] [5 7 9 ... 2 9 5]\n",
      "0.8373418670933547\n",
      "Iteration:  230\n",
      "[5 0 9 ... 2 9 5] [5 7 9 ... 2 9 5]\n",
      "0.8408420421021051\n",
      "Iteration:  240\n",
      "[5 0 9 ... 2 9 5] [5 7 9 ... 2 9 5]\n",
      "0.8438921946097305\n",
      "Iteration:  250\n",
      "[5 0 9 ... 2 9 5] [5 7 9 ... 2 9 5]\n",
      "0.8465423271163558\n",
      "Iteration:  260\n",
      "[5 0 9 ... 2 9 5] [5 7 9 ... 2 9 5]\n",
      "0.8418420921046053\n",
      "Iteration:  270\n",
      "[5 0 9 ... 2 9 5] [5 7 9 ... 2 9 5]\n",
      "0.8372418620931047\n",
      "Iteration:  280\n",
      "[5 0 9 ... 2 9 5] [5 7 9 ... 2 9 5]\n",
      "0.848692434621731\n",
      "Iteration:  290\n",
      "[5 0 9 ... 2 9 5] [5 7 9 ... 2 9 5]\n",
      "0.8541427071353568\n",
      "Iteration:  300\n",
      "[5 0 9 ... 2 9 5] [5 7 9 ... 2 9 5]\n",
      "0.8564928246412321\n",
      "Iteration:  310\n",
      "[5 0 9 ... 2 9 5] [5 7 9 ... 2 9 5]\n",
      "0.8585929296464824\n",
      "Iteration:  320\n",
      "[5 0 9 ... 2 9 5] [5 7 9 ... 2 9 5]\n",
      "0.8610930546527327\n",
      "Iteration:  330\n",
      "[5 0 9 ... 2 9 5] [5 7 9 ... 2 9 5]\n",
      "0.8631931596579829\n",
      "Iteration:  340\n",
      "[5 0 9 ... 2 9 5] [5 7 9 ... 2 9 5]\n",
      "0.8649432471623582\n",
      "Iteration:  350\n",
      "[5 0 9 ... 2 9 5] [5 7 9 ... 2 9 5]\n",
      "0.8655432771638581\n",
      "Iteration:  360\n",
      "[5 0 9 ... 2 9 5] [5 7 9 ... 2 9 5]\n",
      "0.8665933296664833\n",
      "Iteration:  370\n",
      "[5 0 9 ... 2 9 5] [5 7 9 ... 2 9 5]\n",
      "0.8665933296664833\n",
      "Iteration:  380\n",
      "[5 0 9 ... 2 9 5] [5 7 9 ... 2 9 5]\n",
      "0.8673433671683585\n",
      "Iteration:  390\n",
      "[5 0 9 ... 2 9 5] [5 7 9 ... 2 9 5]\n",
      "0.8684934246712336\n",
      "Iteration:  400\n",
      "[5 0 9 ... 2 9 5] [5 7 9 ... 2 9 5]\n",
      "0.8704435221761088\n",
      "Iteration:  410\n",
      "[5 0 9 ... 2 9 5] [5 7 9 ... 2 9 5]\n",
      "0.871993599679984\n",
      "Iteration:  420\n",
      "[5 0 9 ... 2 9 5] [5 7 9 ... 2 9 5]\n",
      "0.8732436621831091\n",
      "Iteration:  430\n",
      "[5 0 9 ... 2 9 5] [5 7 9 ... 2 9 5]\n",
      "0.8744437221861093\n",
      "Iteration:  440\n",
      "[5 0 9 ... 2 9 5] [5 7 9 ... 2 9 5]\n",
      "0.8754937746887345\n",
      "Iteration:  450\n",
      "[5 0 9 ... 2 9 5] [5 7 9 ... 2 9 5]\n",
      "0.8762438121906095\n",
      "Iteration:  460\n",
      "[5 0 9 ... 2 9 5] [5 7 9 ... 2 9 5]\n",
      "0.8770438521926096\n",
      "Iteration:  470\n",
      "[5 0 9 ... 2 9 5] [5 7 9 ... 2 9 5]\n",
      "0.8779938996949848\n",
      "Iteration:  480\n",
      "[5 0 9 ... 2 9 5] [5 7 9 ... 2 9 5]\n",
      "0.8788439421971098\n",
      "Iteration:  490\n",
      "[5 0 9 ... 2 9 5] [5 7 9 ... 2 9 5]\n",
      "0.879793989699485\n"
     ]
    }
   ],
   "source": [
    "W1, b1, W2, b2 = gradient_descent(X_train, Y_train, 0.10, 500)"
   ]
  },
  {
   "cell_type": "code",
   "execution_count": 14,
   "metadata": {},
   "outputs": [],
   "source": [
    "def make_predictions(X, W1, b1, W2, b2):\n",
    "    _, _, _, A2 = forward_prop(W1, b1, W2, b2, X)\n",
    "    predictions = get_predictions(A2)\n",
    "    return predictions\n",
    "\n",
    "def test_prediction(index, W1, b1, W2, b2):\n",
    "    current_image = X_train[:, index, None]\n",
    "    prediction = make_predictions(X_train[:, index, None], W1, b1, W2, b2)\n",
    "    label = Y_train[index]\n",
    "    print(\"Prediction: \", prediction)\n",
    "    print(\"Label: \", label)\n",
    "    \n",
    "    current_image = current_image.reshape((28, 28)) * 255\n",
    "    plt.gray()\n",
    "    plt.imshow(current_image, interpolation='nearest')\n",
    "    plt.show()"
   ]
  },
  {
   "cell_type": "code",
   "execution_count": 15,
   "metadata": {},
   "outputs": [
    {
     "name": "stdout",
     "output_type": "stream",
     "text": [
      "Prediction:  [5]\n",
      "Label:  5\n"
     ]
    },
    {
     "data": {
      "image/png": "[encoded data removed]",
      "text/plain": [
       "<Figure size 432x288 with 1 Axes>"
      ]
     },
     "metadata": {
      "needs_background": "light"
     },
     "output_type": "display_data"
    },
    {
     "name": "stdout",
     "output_type": "stream",
     "text": [
      "Prediction:  [0]\n",
      "Label:  7\n"
     ]
    },
    {
     "data": {
      "image/png": "[encoded data removed]",
      "text/plain": [
       "<Figure size 432x288 with 1 Axes>"
      ]
     },
     "metadata": {
      "needs_background": "light"
     },
     "output_type": "display_data"
    },
    {
     "name": "stdout",
     "output_type": "stream",
     "text": [
      "Prediction:  [2]\n",
      "Label:  2\n"
     ]
    },
    {
     "data": {
      "image/png": "[encoded data removed]",
      "text/plain": [
       "<Figure size 432x288 with 1 Axes>"
      ]
     },
     "metadata": {
      "needs_background": "light"
     },
     "output_type": "display_data"
    },
    {
     "name": "stdout",
     "output_type": "stream",
     "text": [
      "Prediction:  [5]\n",
      "Label:  5\n"
     ]
    },
    {
     "data": {
      "image/png": "[encoded data removed]",
      "text/plain": [
       "<Figure size 432x288 with 1 Axes>"
      ]
     },
     "metadata": {
      "needs_background": "light"
     },
     "output_type": "display_data"
    }
   ],
   "source": [
    "test_prediction(0, W1, b1, W2, b2)\n",
    "test_prediction(1, W1, b1, W2, b2)\n",
    "test_prediction(4, W1, b1, W2, b2)\n",
    "test_prediction(7, W1, b1, W2, b2)"
   ]
  },
  {
   "cell_type": "code",
   "execution_count": 16,
   "metadata": {},
   "outputs": [
    {
     "name": "stdout",
     "output_type": "stream",
     "text": [
      "[2 1 0 ... 4 5 6] [2 1 0 ... 4 5 6]\n"
     ]
    },
    {
     "data": {
      "text/plain": [
       "0.8788878887888789"
      ]
     },
     "execution_count": 16,
     "metadata": {},
     "output_type": "execute_result"
    }
   ],
   "source": [
    "test_predictions = make_predictions(X_test, W1, b1, W2, b2)\n",
    "get_accuracy(test_predictions, Y_test)"
   ]
  },
  {
   "cell_type": "code",
   "execution_count": null,
   "metadata": {},
   "outputs": [],
   "source": []
  }
 ],
 "metadata": {
  "kernelspec": {
   "display_name": "Python 3",
   "language": "python",
   "name": "python3"
  },
  "language_info": {
   "codemirror_mode": {
    "name": "ipython",
    "version": 3
   },
   "file_extension": ".py",
   "mimetype": "text/x-python",
   "name": "python",
   "nbconvert_exporter": "python",
   "pygments_lexer": "ipython3",
   "version": "3.8.5"
  }
 },
 "nbformat": 4,
 "nbformat_minor": 4
}
